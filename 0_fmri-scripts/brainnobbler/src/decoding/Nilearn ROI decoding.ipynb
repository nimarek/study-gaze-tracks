{
 "cells": [
  {
   "cell_type": "code",
   "execution_count": null,
   "id": "078e12e9",
   "metadata": {},
   "outputs": [],
   "source": [
    "from os.path import join\n",
    "from dataset import GetData\n",
    "from nilearn.decoding import Decoder\n",
    "import numpy as np\n",
    "from sklearn.model_selection import LeaveOneGroupOut"
   ]
  },
  {
   "cell_type": "markdown",
   "id": "f4d4eb14",
   "metadata": {},
   "source": [
    "## Set directory and necessary variables"
   ]
  },
  {
   "cell_type": "code",
   "execution_count": null,
   "id": "a31569f3",
   "metadata": {},
   "outputs": [],
   "source": [
    "BASEDIR = \"/home/emanuele/Documents/bnb_retreat/data/\"\n",
    "DATADIR = join(BASEDIR, \"sub-01\")\n",
    "TASKS = [\"col\", \"pl\"]"
   ]
  },
  {
   "cell_type": "markdown",
   "id": "a3b4f5ae",
   "metadata": {},
   "source": [
    "## Now get the dataset through the GetData class"
   ]
  },
  {
   "cell_type": "code",
   "execution_count": null,
   "id": "eee9c563",
   "metadata": {},
   "outputs": [],
   "source": [
    "dataset = GetData(\n",
    "    tasks=TASKS, labels={\"_f_\": 1, \"_nf_\": 2}, group_filter=TASKS\n",
    ")\n",
    "DATA = dataset(DATADIR)\n",
    "print(DATA)"
   ]
  },
  {
   "cell_type": "markdown",
   "id": "fec57ec3",
   "metadata": {},
   "source": [
    "## Now set the standard Nilearn decoder"
   ]
  },
  {
   "cell_type": "code",
   "execution_count": null,
   "id": "bd508d9f",
   "metadata": {},
   "outputs": [],
   "source": [
    "MASK = join(BASEDIR, \"masks/binarized_ofc.nii.gz\")\n",
    "decoder = Decoder(estimator='svc', \n",
    "                  mask=MASK, standardize=False,\n",
    "                  scoring=\"accuracy\", \n",
    "                  cv=LeaveOneGroupOut())\n",
    "decoder.fit(DATA[\"data\"], DATA[\"labels\"], groups=DATA[\"groups\"])\n",
    "print(decoder.get_params())"
   ]
  },
  {
   "cell_type": "code",
   "execution_count": null,
   "id": "e73af5e2",
   "metadata": {},
   "outputs": [],
   "source": [
    "accuracy = np.mean(list(decoder.cv_scores_.values()))\n",
    "chance_level = 1. / len(np.unique(DATA[\"labels\"]))\n",
    "print(f'Classification accuracy: {accuracy} / Chance level: {chance_level}')"
   ]
  },
  {
   "cell_type": "code",
   "execution_count": null,
   "id": "2f0ad735",
   "metadata": {},
   "outputs": [],
   "source": []
  }
 ],
 "metadata": {
  "kernelspec": {
   "display_name": "Python 3 (ipykernel)",
   "language": "python",
   "name": "python3"
  },
  "language_info": {
   "codemirror_mode": {
    "name": "ipython",
    "version": 3
   },
   "file_extension": ".py",
   "mimetype": "text/x-python",
   "name": "python",
   "nbconvert_exporter": "python",
   "pygments_lexer": "ipython3",
   "version": "3.8.10"
  }
 },
 "nbformat": 4,
 "nbformat_minor": 5
}
