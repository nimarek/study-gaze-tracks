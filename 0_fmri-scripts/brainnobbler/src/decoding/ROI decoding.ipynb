{
 "cells": [
  {
   "cell_type": "code",
   "execution_count": 77,
   "id": "67234896",
   "metadata": {},
   "outputs": [],
   "source": [
    "import numpy as np\n",
    "import pandas as pd\n",
    "from dataset import GetData\n",
    "from nilearn.maskers import NiftiMasker\n",
    "from permute_labels import PermLabels\n",
    "from sklearn.model_selection import LeaveOneGroupOut, cross_val_score\n",
    "from sklearn.metrics import accuracy_score\n",
    "from sklearn.preprocessing import StandardScaler\n",
    "from sklearn.svm import SVC, LinearSVC"
   ]
  },
  {
   "cell_type": "markdown",
   "id": "e3b2b3a6",
   "metadata": {},
   "source": [
    "# Set directories"
   ]
  },
  {
   "cell_type": "code",
   "execution_count": 78,
   "id": "026a4840",
   "metadata": {},
   "outputs": [],
   "source": [
    "DATADIR = \"/home/emanuele/Documents/bnb_retreat/data/sub-01/\"\n",
    "OUTPUT = \"searchlight_output\"\n",
    "MASK = \"/home/emanuele/Documents/bnb_retreat/data/masks/binarized_ofc.nii.gz\""
   ]
  },
  {
   "cell_type": "markdown",
   "id": "c02c7e13",
   "metadata": {},
   "source": [
    "# Set the necessary variables"
   ]
  },
  {
   "cell_type": "code",
   "execution_count": 79,
   "id": "724d3917",
   "metadata": {},
   "outputs": [],
   "source": [
    "TASKS = [\"col\", \"pl\"]\n",
    "SUBJ = \"01\""
   ]
  },
  {
   "cell_type": "markdown",
   "id": "52b835b2",
   "metadata": {},
   "source": [
    "# Get dataset"
   ]
  },
  {
   "cell_type": "code",
   "execution_count": 80,
   "id": "436c035c",
   "metadata": {},
   "outputs": [
    {
     "name": "stdout",
     "output_type": "stream",
     "text": [
      "{'data': array(['/home/emanuele/Documents/bnb_retreat/data/sub-01/sub-01_f_col_block_3_run-3_zmap.nii.gz',\n",
      "       '/home/emanuele/Documents/bnb_retreat/data/sub-01/sub-01_f_col_block_1_run-2_zmap.nii.gz',\n",
      "       '/home/emanuele/Documents/bnb_retreat/data/sub-01/sub-01_nf_col_block_1_run-2_zmap.nii.gz',\n",
      "       '/home/emanuele/Documents/bnb_retreat/data/sub-01/sub-01_nf_col_block_1_run-1_zmap.nii.gz',\n",
      "       '/home/emanuele/Documents/bnb_retreat/data/sub-01/sub-01_f_col_block_2_run-2_zmap.nii.gz',\n",
      "       '/home/emanuele/Documents/bnb_retreat/data/sub-01/sub-01_f_col_block_1_run-1_zmap.nii.gz',\n",
      "       '/home/emanuele/Documents/bnb_retreat/data/sub-01/sub-01_nf_col_block_2_run-2_zmap.nii.gz',\n",
      "       '/home/emanuele/Documents/bnb_retreat/data/sub-01/sub-01_f_col_block_2_run-1_zmap.nii.gz',\n",
      "       '/home/emanuele/Documents/bnb_retreat/data/sub-01/sub-01_f_col_block_1_run-3_zmap.nii.gz',\n",
      "       '/home/emanuele/Documents/bnb_retreat/data/sub-01/sub-01_nf_col_block_3_run-3_zmap.nii.gz',\n",
      "       '/home/emanuele/Documents/bnb_retreat/data/sub-01/sub-01_nf_col_block_1_run-3_zmap.nii.gz',\n",
      "       '/home/emanuele/Documents/bnb_retreat/data/sub-01/sub-01_nf_col_block_2_run-1_zmap.nii.gz',\n",
      "       '/home/emanuele/Documents/bnb_retreat/data/sub-01/sub-01_nf_col_block_2_run-3_zmap.nii.gz',\n",
      "       '/home/emanuele/Documents/bnb_retreat/data/sub-01/sub-01_f_col_block_2_run-3_zmap.nii.gz',\n",
      "       '/home/emanuele/Documents/bnb_retreat/data/sub-01/sub-01_nf_col_block_3_run-2_zmap.nii.gz',\n",
      "       '/home/emanuele/Documents/bnb_retreat/data/sub-01/sub-01_nf_col_block_3_run-1_zmap.nii.gz',\n",
      "       '/home/emanuele/Documents/bnb_retreat/data/sub-01/sub-01_f_col_block_3_run-2_zmap.nii.gz',\n",
      "       '/home/emanuele/Documents/bnb_retreat/data/sub-01/sub-01_f_col_block_3_run-1_zmap.nii.gz',\n",
      "       '/home/emanuele/Documents/bnb_retreat/data/sub-01/sub-01_f_pl_block_1_run-1_zmap.nii.gz',\n",
      "       '/home/emanuele/Documents/bnb_retreat/data/sub-01/sub-01_nf_pl_block_3_run-1_zmap.nii.gz',\n",
      "       '/home/emanuele/Documents/bnb_retreat/data/sub-01/sub-01_nf_pl_block_2_run-1_zmap.nii.gz',\n",
      "       '/home/emanuele/Documents/bnb_retreat/data/sub-01/sub-01_f_pl_block_1_run-3_zmap.nii.gz',\n",
      "       '/home/emanuele/Documents/bnb_retreat/data/sub-01/sub-01_nf_pl_block_3_run-2_zmap.nii.gz',\n",
      "       '/home/emanuele/Documents/bnb_retreat/data/sub-01/sub-01_f_pl_block_2_run-2_zmap.nii.gz',\n",
      "       '/home/emanuele/Documents/bnb_retreat/data/sub-01/sub-01_f_pl_block_3_run-1_zmap.nii.gz',\n",
      "       '/home/emanuele/Documents/bnb_retreat/data/sub-01/sub-01_f_pl_block_3_run-3_zmap.nii.gz',\n",
      "       '/home/emanuele/Documents/bnb_retreat/data/sub-01/sub-01_f_pl_block_1_run-2_zmap.nii.gz',\n",
      "       '/home/emanuele/Documents/bnb_retreat/data/sub-01/sub-01_f_pl_block_2_run-3_zmap.nii.gz',\n",
      "       '/home/emanuele/Documents/bnb_retreat/data/sub-01/sub-01_nf_pl_block_1_run-2_zmap.nii.gz',\n",
      "       '/home/emanuele/Documents/bnb_retreat/data/sub-01/sub-01_nf_pl_block_2_run-3_zmap.nii.gz',\n",
      "       '/home/emanuele/Documents/bnb_retreat/data/sub-01/sub-01_f_pl_block_3_run-2_zmap.nii.gz',\n",
      "       '/home/emanuele/Documents/bnb_retreat/data/sub-01/sub-01_nf_pl_block_2_run-2_zmap.nii.gz',\n",
      "       '/home/emanuele/Documents/bnb_retreat/data/sub-01/sub-01_f_pl_block_2_run-1_zmap.nii.gz',\n",
      "       '/home/emanuele/Documents/bnb_retreat/data/sub-01/sub-01_nf_pl_block_1_run-3_zmap.nii.gz',\n",
      "       '/home/emanuele/Documents/bnb_retreat/data/sub-01/sub-01_nf_pl_block_1_run-1_zmap.nii.gz',\n",
      "       '/home/emanuele/Documents/bnb_retreat/data/sub-01/sub-01_nf_pl_block_3_run-3_zmap.nii.gz'],\n",
      "      dtype='<U88'), 'labels': array([1, 1, 2, 2, 1, 1, 2, 1, 1, 2, 2, 2, 2, 1, 2, 2, 1, 1, 1, 2, 2, 1,\n",
      "       2, 1, 1, 1, 1, 1, 2, 2, 1, 2, 1, 2, 2, 2]), 'groups': array([1, 1, 1, 1, 1, 1, 1, 1, 1, 1, 1, 1, 1, 1, 1, 1, 1, 1, 2, 2, 2, 2,\n",
      "       2, 2, 2, 2, 2, 2, 2, 2, 2, 2, 2, 2, 2, 2])}\n"
     ]
    }
   ],
   "source": [
    "dataset = GetData(\n",
    "    tasks=TASKS, labels={\"_f_\": 1, \"_nf_\": 2}, group_filter=TASKS\n",
    ")\n",
    "data = dataset(DATADIR)\n",
    "print(data)"
   ]
  },
  {
   "cell_type": "markdown",
   "id": "63da323c",
   "metadata": {},
   "source": [
    "# Let's take advantage of the Nilearn masker\n",
    "In this case we use it only to mask our samples, but it has several useful functionalities, check it out!\n",
    "\n",
    "We are using a very coarse and big OFC mask (only becuase that's what we have available), of course we should use a brain parcellation to run a more meaningful ROI analysis."
   ]
  },
  {
   "cell_type": "code",
   "execution_count": 81,
   "id": "34faa963",
   "metadata": {},
   "outputs": [],
   "source": [
    "MASKER = NiftiMasker(mask_img=MASK, memory=\"nilearn_cache\", memory_level=1)\n",
    "FMRI_MASKED = MASKER.fit_transform(data[\"data\"])"
   ]
  },
  {
   "cell_type": "markdown",
   "id": "7ec46290",
   "metadata": {},
   "source": [
    "# Set up the crossvalidation"
   ]
  },
  {
   "cell_type": "code",
   "execution_count": 82,
   "id": "5f6d6922",
   "metadata": {},
   "outputs": [],
   "source": [
    "CV = LeaveOneGroupOut()"
   ]
  },
  {
   "cell_type": "markdown",
   "id": "445a50ff",
   "metadata": {},
   "source": [
    "# We set a Linear support vector classifier using the parameters suggested by the Nilearn decoder"
   ]
  },
  {
   "cell_type": "code",
   "execution_count": 83,
   "id": "2c2aa488",
   "metadata": {},
   "outputs": [],
   "source": [
    "CLF = LinearSVC(penalty=\"l1\", dual=False, max_iter=1e4)"
   ]
  },
  {
   "cell_type": "markdown",
   "id": "7bd40b59",
   "metadata": {},
   "source": [
    "# Let's run the classification using cross_val_score from sk_learn"
   ]
  },
  {
   "cell_type": "code",
   "execution_count": 84,
   "id": "2a47de46",
   "metadata": {},
   "outputs": [
    {
     "name": "stdout",
     "output_type": "stream",
     "text": [
      "folds scores [0.66666667 0.44444444] average scores 0.5555555555555556\n"
     ]
    }
   ],
   "source": [
    "cv_scores = cross_val_score(\n",
    "    CLF,\n",
    "    X=FMRI_MASKED,\n",
    "    y=data[\"labels\"],\n",
    "    cv=CV,\n",
    "    scoring=\"accuracy\",\n",
    "    groups=data[\"groups\"],\n",
    "    n_jobs=-1,\n",
    ")\n",
    "print(f\"folds scores {cv_scores}\", f\"average scores {np.mean(cv_scores)}\")"
   ]
  },
  {
   "cell_type": "markdown",
   "id": "583f7209",
   "metadata": {},
   "source": [
    "## Again we would like to run a permutation test, therefore we get our chance maps"
   ]
  },
  {
   "cell_type": "code",
   "execution_count": 85,
   "id": "de9b3c4f",
   "metadata": {},
   "outputs": [],
   "source": [
    "CV = list(CV.split(data[\"data\"], data[\"labels\"], data[\"groups\"]))"
   ]
  },
  {
   "cell_type": "markdown",
   "id": "0754e43e",
   "metadata": {},
   "source": [
    "# Let's get the permuted labels"
   ]
  },
  {
   "cell_type": "code",
   "execution_count": 86,
   "id": "8d27deea",
   "metadata": {},
   "outputs": [],
   "source": [
    "PERMUTATION = PermLabels(data[\"labels\"], CV, data[\"groups\"])"
   ]
  },
  {
   "cell_type": "markdown",
   "id": "038f1b8f",
   "metadata": {},
   "source": [
    "# And now run the classification "
   ]
  },
  {
   "cell_type": "code",
   "execution_count": 87,
   "id": "e778cdb4",
   "metadata": {},
   "outputs": [
    {
     "name": "stdout",
     "output_type": "stream",
     "text": [
      "fold number: 0\n",
      "train indices: [18 19 20 21 22 23 24 25 26 27 28 29 30 31 32 33 34 35] - test indices: [ 0  1  2  3  4  5  6  7  8  9 10 11 12 13 14 15 16 17]\n",
      "non-permuted train labels: [1 2 2 1 2 1 1 1 1 1 2 2 1 2 1 2 2 2] permuted train labels: [2, 1, 1, 2, 1, 2, 1, 2, 2, 2, 1, 1, 2, 1, 2, 1, 2, 1]\n",
      "fold number: 1\n",
      "train indices: [ 0  1  2  3  4  5  6  7  8  9 10 11 12 13 14 15 16 17] - test indices: [18 19 20 21 22 23 24 25 26 27 28 29 30 31 32 33 34 35]\n",
      "non-permuted train labels: [1 1 2 2 1 1 2 1 1 2 2 2 2 1 2 2 1 1] permuted train labels: [2, 2, 1, 1, 2, 2, 1, 2, 2, 2, 1, 1, 1, 2, 1, 1, 1, 2]\n"
     ]
    }
   ],
   "source": [
    "# collect data in a dictionary\n",
    "PERM_SCORES_DICT = {}\n",
    "for fold, ((train, test), perm) in enumerate(zip(CV, PERMUTATION())):\n",
    "    print(f\"fold number: {fold}\")\n",
    "    print(f\"train indices: {train} - test indices: {test}\")\n",
    "    print(\n",
    "        f\"non-permuted train labels: {data['labels'][train]} permuted train labels: {perm}\"\n",
    "    )\n",
    "    CLF.fit(FMRI_MASKED[train], perm)\n",
    "    prediction = CLF.predict(FMRI_MASKED[test])\n",
    "    PERM_SCORES_DICT[f\"fold_{fold+1}\"] = accuracy_score(\n",
    "        prediction, data[\"labels\"][test]\n",
    "    )"
   ]
  },
  {
   "cell_type": "code",
   "execution_count": 88,
   "id": "c5b88530",
   "metadata": {},
   "outputs": [
    {
     "data": {
      "text/plain": [
       "{'fold_1': 0.6111111111111112, 'fold_2': 0.5555555555555556}"
      ]
     },
     "execution_count": 88,
     "metadata": {},
     "output_type": "execute_result"
    }
   ],
   "source": [
    "PERM_SCORES_DICT"
   ]
  },
  {
   "cell_type": "code",
   "execution_count": null,
   "id": "ab91415b",
   "metadata": {},
   "outputs": [],
   "source": []
  }
 ],
 "metadata": {
  "kernelspec": {
   "display_name": "Python 3 (ipykernel)",
   "language": "python",
   "name": "python3"
  },
  "language_info": {
   "codemirror_mode": {
    "name": "ipython",
    "version": 3
   },
   "file_extension": ".py",
   "mimetype": "text/x-python",
   "name": "python",
   "nbconvert_exporter": "python",
   "pygments_lexer": "ipython3",
   "version": "3.8.10"
  }
 },
 "nbformat": 4,
 "nbformat_minor": 5
}
