{
 "cells": [
  {
   "cell_type": "code",
   "execution_count": 1,
   "id": "c43403e3",
   "metadata": {},
   "outputs": [],
   "source": [
    "import os\n",
    "import glob\n",
    "from itertools import product\n",
    "\n",
    "import numpy as np\n",
    "import pandas as pd\n",
    "\n",
    "import cv2\n",
    "from skimage.metrics import structural_similarity as ssim\n",
    "\n",
    "import matplotlib.pyplot as plt\n",
    "import seaborn as sns"
   ]
  },
  {
   "cell_type": "code",
   "execution_count": 2,
   "id": "7f62d01b",
   "metadata": {},
   "outputs": [],
   "source": [
    "def create_dirs(run):    \n",
    "    output_dir= os.getcwd() + f\"\\\\spatial-attention-complete_ssim\\\\run-{run}\"\n",
    "    if not os.path.exists(output_dir):\n",
    "        os.makedirs(output_dir)\n",
    "    return output_dir"
   ]
  },
  {
   "cell_type": "code",
   "execution_count": 3,
   "id": "f476960f",
   "metadata": {},
   "outputs": [],
   "source": [
    "def struct_sim(run, chunk_list):\n",
    "    \"\"\"\n",
    "    Read images according to event file\n",
    "    \"\"\"\n",
    "    event_input = pd.read_csv(os.getcwd() + \"\\\\reference_spatial-attention\" + f\"\\\\complete_ses-movie_task-movie_run-{run}_events.tsv\", sep=\"\\t\", index_col=False)\n",
    "\n",
    "    ssim_list, chunk_max = [], chunk_list[int(run)]\n",
    "    \n",
    "    for onset_a, onset_b in product(event_input[\"onset\"], repeat=2):\n",
    "        input_img_path_a = glob.glob(os.getcwd() + \"\\qc_frames\" + f\"\\*run-{run}\" + f\"\\*run-{run}*onset-{int(onset_a)}.0.jpg\")\n",
    "        input_img_path_b = glob.glob(os.getcwd() + \"\\qc_frames\" + f\"\\*run-{run}\" + f\"\\*run-{run}*onset-{int(onset_b)}.0.jpg\")\n",
    "\n",
    "        gray1 = cv2.cvtColor(cv2.imread(input_img_path_a[0]), cv2.COLOR_BGR2GRAY)\n",
    "        gray2 = cv2.cvtColor(cv2.imread(input_img_path_b[0]), cv2.COLOR_BGR2GRAY)  \n",
    "        ssim_list.append(ssim(gray1, gray2))\n",
    "    return np.reshape(ssim_list, (chunk_max, chunk_max))"
   ]
  },
  {
   "cell_type": "code",
   "execution_count": 4,
   "id": "84f7c1a6",
   "metadata": {},
   "outputs": [],
   "source": [
    "def plot_heatmap(run, labels, df, output_heat_maps):\n",
    "    # masked_tria = np.triu(df)\n",
    "    hm_fig_dissim = sns.heatmap(df, xticklabels=labels, yticklabels=labels, \n",
    "                         cmap=\"RdBu_r\") # , mask=masked_tria\n",
    "    hm_fig_dissim.set_title(f\"run-{run}\", fontweight=\"bold\")\n",
    "    plt.savefig(output_heat_maps + f\"\\\\ssim_run-{run}.png\", bbox_inches=\"tight\", pad_inches=0)\n",
    "    plt.close()\n",
    "    return None"
   ]
  },
  {
   "cell_type": "code",
   "execution_count": 5,
   "id": "1f96b945",
   "metadata": {},
   "outputs": [],
   "source": [
    "chunk_list = [0, 253, 252, 242, 275, 249, 243, 306, 178]"
   ]
  },
  {
   "cell_type": "code",
   "execution_count": 6,
   "id": "cb503db3",
   "metadata": {},
   "outputs": [
    {
     "name": "stdout",
     "output_type": "stream",
     "text": [
      "starting run-6\n",
      "starting run-7\n",
      "starting run-8\n"
     ]
    }
   ],
   "source": [
    "for run in range(1, 9):\n",
    "    print(f\"starting run-{run}\")\n",
    "    output_dir = create_dirs(run)\n",
    "    struct_sim_df = struct_sim(run, chunk_list)\n",
    "    plot_heatmap(run, list(range(chunk_list[int(run)])), struct_sim_df, output_dir)\n",
    "    pd.DataFrame(struct_sim_df).to_csv(output_dir + f\"\\\\ssim_run-{run}.tsv\", header=False, index=False)    "
   ]
  },
  {
   "cell_type": "code",
   "execution_count": null,
   "id": "8f2a9ae0",
   "metadata": {},
   "outputs": [],
   "source": []
  }
 ],
 "metadata": {
  "kernelspec": {
   "display_name": "Python 3 (ipykernel)",
   "language": "python",
   "name": "python3"
  },
  "language_info": {
   "codemirror_mode": {
    "name": "ipython",
    "version": 3
   },
   "file_extension": ".py",
   "mimetype": "text/x-python",
   "name": "python",
   "nbconvert_exporter": "python",
   "pygments_lexer": "ipython3",
   "version": "3.9.12"
  }
 },
 "nbformat": 4,
 "nbformat_minor": 5
}
