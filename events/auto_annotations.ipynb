{
 "cells": [
  {
   "cell_type": "code",
   "execution_count": 1,
   "id": "7c943229",
   "metadata": {},
   "outputs": [],
   "source": [
    "import os\n",
    "import pandas as pd\n",
    "\n",
    "# feature extraction\n",
    "from pliers.stimuli import VideoStim\n",
    "from pliers.filters import FrameSamplingFilter\n",
    "from pliers.extractors import FaceRecognitionFaceLocationsExtractor\n",
    "\n",
    "from pliers.extractors import merge_results\n",
    "from pliers import config\n",
    "\n",
    "config.set_option(\"progress_bar\", False)"
   ]
  },
  {
   "cell_type": "code",
   "execution_count": 2,
   "id": "60c979ea",
   "metadata": {},
   "outputs": [],
   "source": [
    "deriv_dir = \"/home/exp-psy/Desktop/study_face_tracks/derivatives\"\n",
    "out_dir = os.path.join(deriv_dir, \"reference_no-faces\")\n",
    "os.makedirs(out_dir, exist_ok=True)"
   ]
  },
  {
   "cell_type": "code",
   "execution_count": 3,
   "id": "6de31ba5",
   "metadata": {},
   "outputs": [],
   "source": [
    "face_ext = FaceRecognitionFaceLocationsExtractor(model=\"cnn\")\n",
    "filt = FrameSamplingFilter(hertz=1)"
   ]
  },
  {
   "cell_type": "code",
   "execution_count": 4,
   "id": "96cb3fae",
   "metadata": {},
   "outputs": [
    {
     "name": "stdout",
     "output_type": "stream",
     "text": [
      "starting with segment:\t /home/exp-psy/Desktop/study_face_tracks/derivatives/fgav/fg_av_ger_seg1.mkv\n",
      "starting with segment:\t /home/exp-psy/Desktop/study_face_tracks/derivatives/fgav/fg_av_ger_seg2.mkv\n",
      "starting with segment:\t /home/exp-psy/Desktop/study_face_tracks/derivatives/fgav/fg_av_ger_seg3.mkv\n",
      "starting with segment:\t /home/exp-psy/Desktop/study_face_tracks/derivatives/fgav/fg_av_ger_seg4.mkv\n",
      "starting with segment:\t /home/exp-psy/Desktop/study_face_tracks/derivatives/fgav/fg_av_ger_seg5.mkv\n",
      "starting with segment:\t /home/exp-psy/Desktop/study_face_tracks/derivatives/fgav/fg_av_ger_seg6.mkv\n",
      "starting with segment:\t /home/exp-psy/Desktop/study_face_tracks/derivatives/fgav/fg_av_ger_seg7.mkv\n",
      "starting with segment:\t /home/exp-psy/Desktop/study_face_tracks/derivatives/fgav/fg_av_ger_seg8.mkv\n"
     ]
    }
   ],
   "source": [
    "for run in range(1, 9):\n",
    "    video_f = os.path.join(deriv_dir, \"fgav\", f\"fg_av_ger_seg{run}.mkv\")\n",
    "    video = VideoStim(video_f)\n",
    "    \n",
    "    print(f\"starting with segment:\\t {video_f}\")\n",
    "    \n",
    "    # classify each second\n",
    "    selected_frames = filt.transform(video)\n",
    "    face_features = face_ext.transform(selected_frames)\n",
    "    \n",
    "    # adjust and save face df\n",
    "    merged_faces = merge_results(face_features, metadata=False)\n",
    "    merged_faces = merged_faces.drop(columns=[\"order\"])\n",
    "    merged_faces.to_csv(os.path.join(out_dir, f\"run-0{run}_per-frame-faces.tsv\"), sep=\"\\t\")\n",
    "    \n",
    "    # generate a \"no-face\" df\n",
    "    gaps = []\n",
    "    prev_end = 0.0\n",
    "    for i, row in merged_faces.iterrows():\n",
    "        current_onset = row[\"onset\"]\n",
    "        if current_onset > prev_end:\n",
    "            gap = {                \"onset\": prev_end,\n",
    "                \"duration\": current_onset - prev_end,\n",
    "                \"trial_type\": f\"no_face_{len(gaps)+1}\"\n",
    "            }\n",
    "            gaps.append(gap)\n",
    "        prev_end = max(prev_end, row[\"onset\"] + row[\"duration\"])\n",
    "    \n",
    "    # save the \"no-fce\" df\n",
    "    marged_no_faces = pd.DataFrame(gaps)\n",
    "    marged_no_faces.to_csv(os.path.join(out_dir, f\"run-0{run}_no-faces.tsv\"), sep=\"\\t\")"
   ]
  },
  {
   "cell_type": "code",
   "execution_count": null,
   "id": "66532e94",
   "metadata": {},
   "outputs": [],
   "source": []
  }
 ],
 "metadata": {
  "kernelspec": {
   "display_name": "Python [conda env:rsa] *",
   "language": "python",
   "name": "conda-env-rsa-py"
  },
  "language_info": {
   "codemirror_mode": {
    "name": "ipython",
    "version": 3
   },
   "file_extension": ".py",
   "mimetype": "text/x-python",
   "name": "python",
   "nbconvert_exporter": "python",
   "pygments_lexer": "ipython3",
   "version": "3.13.1"
  }
 },
 "nbformat": 4,
 "nbformat_minor": 5
}
